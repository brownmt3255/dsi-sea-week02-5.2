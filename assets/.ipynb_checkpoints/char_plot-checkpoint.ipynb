{
 "cells": [
  {
   "cell_type": "code",
   "execution_count": 2,
   "metadata": {
    "button": false,
    "collapsed": false,
    "deletable": true,
    "new_sheet": false,
    "run_control": {
     "read_only": false
    }
   },
   "outputs": [],
   "source": [
    "import pandas as pd\n",
    "import numpy as np\n",
    "import scipy as sp\n",
    "import matplotlib as mpl\n",
    "import matplotlib.pyplot as plt\n",
    "mpl.style.use('ggplot')"
   ]
  },
  {
   "cell_type": "markdown",
   "metadata": {
    "button": false,
    "deletable": true,
    "new_sheet": false,
    "run_control": {
     "read_only": false
    }
   },
   "source": [
    "### The Legion of Evil is the world's #2 most evil organization in the world, but we could be number one. \n",
    "#### Through long negotiations and uncomfortable silences, we have been granted a meeting with the #1 most evil organization, the Legion of Doom! This is our chance recruit to make it into the big time. Let's not fail now!"
   ]
  },
  {
   "cell_type": "markdown",
   "metadata": {
    "button": false,
    "deletable": true,
    "new_sheet": false,
    "run_control": {
     "read_only": false
    }
   },
   "source": [
    "#### Let's start by loading in our database and printing the head"
   ]
  },
  {
   "cell_type": "code",
   "execution_count": 3,
   "metadata": {
    "button": false,
    "collapsed": false,
    "deletable": true,
    "new_sheet": false,
    "run_control": {
     "read_only": false
    }
   },
   "outputs": [
    {
     "name": "stdout",
     "output_type": "stream",
     "text": [
      "   page_id                                 name  \\\n",
      "0     1678            Spider-Man (Peter Parker)   \n",
      "1     7139      Captain America (Steven Rogers)   \n",
      "2    64786  Wolverine (James \\\"Logan\\\" Howlett)   \n",
      "3     1868    Iron Man (Anthony \\\"Tony\\\" Stark)   \n",
      "4     2460                  Thor (Thor Odinson)   \n",
      "\n",
      "                                   urlslug                ID  \\\n",
      "0              \\/Spider-Man_(Peter_Parker)   Secret Identity   \n",
      "1        \\/Captain_America_(Steven_Rogers)   Public Identity   \n",
      "2  \\/Wolverine_(James_%22Logan%22_Howlett)   Public Identity   \n",
      "3    \\/Iron_Man_(Anthony_%22Tony%22_Stark)   Public Identity   \n",
      "4                    \\/Thor_(Thor_Odinson)  No Dual Identity   \n",
      "\n",
      "                ALIGN         EYE        HAIR              SEX  GSM  \\\n",
      "0     Good Characters  Hazel Eyes  Brown Hair  Male Characters  NaN   \n",
      "1     Good Characters   Blue Eyes  White Hair  Male Characters  NaN   \n",
      "2  Neutral Characters   Blue Eyes  Black Hair  Male Characters  NaN   \n",
      "3     Good Characters   Blue Eyes  Black Hair  Male Characters  NaN   \n",
      "4     Good Characters   Blue Eyes  Blond Hair  Male Characters  NaN   \n",
      "\n",
      "               ALIVE  APPEARANCES FIRST APPEARANCE  Year  \n",
      "0  Living Characters         4043           Aug-62  1962  \n",
      "1  Living Characters         3360           Mar-41  1941  \n",
      "2  Living Characters         3061           Oct-74  1974  \n",
      "3  Living Characters         2961           Mar-63  1963  \n",
      "4  Living Characters         2258           Nov-50  1950  \n"
     ]
    }
   ],
   "source": [
    "marvel = pd.read_csv('../../assets/datasets/marvel.csv')\n",
    "print marvel.head()"
   ]
  },
  {
   "cell_type": "markdown",
   "metadata": {
    "button": false,
    "collapsed": false,
    "deletable": true,
    "new_sheet": false,
    "run_control": {
     "read_only": false
    }
   },
   "source": [
    "#### We have some extra data from our teams in the field about the comings and goings of our heroes in the list. Let's run this once and continue to the next field"
   ]
  },
  {
   "cell_type": "code",
   "execution_count": 4,
   "metadata": {
    "button": false,
    "collapsed": false,
    "deletable": true,
    "new_sheet": false,
    "run_control": {
     "read_only": false
    }
   },
   "outputs": [],
   "source": [
    "def randomly(length):\n",
    "    return np.random.randint(0, length, size = 1)[0]\n",
    "\n",
    "def pull_unique(length, arr):\n",
    "    this_rand = randomly(length)\n",
    "    while this_rand in arr:\n",
    "        this_rand = randomly(length)\n",
    "    return this_rand\n",
    "\n",
    "def make_week(number):\n",
    "    return \"Week: \" + str(number)\n",
    "\n",
    "\n",
    "columns = 35\n",
    "weeks = [make_week(x + 1) for x in range(columns)]\n",
    "\n",
    "activity = [\"sleeping\",\"jogging\",\"general tcb(taking care business)\",\n",
    "            \"goat wrangling\",\"birthday party\",\"hopscotch tournament\",\n",
    "           \"evil fighting\",\"having conflicting emotions about secret identity\",\n",
    "           \"ordering pizza\",\"eating jellybeans\",\"working both sides\",\n",
    "            \"being john malkovich\",\"Netflix and chill\", \"munching on granola\",\n",
    "            \"standing silently on one leg\", \"using powers for good\", \n",
    "            \"extensive pullups\",\"running into walls\",\"creating portals to other dimensions\",\n",
    "           \"being really really evil\", \"insulting children\", \"stealing puppies from orphanages\",\n",
    "           \"masticating\", \"doing magic tricks\", \"understanding the world\", \"Space!!!\"]\n",
    "\n",
    "dicty = {}\n",
    "\n",
    "for week in weeks:\n",
    "    dicty[week] = [activity[randomly(len(activity))] for x in range(len(marvel))]\n",
    "\n",
    "dicty['page_id'] = marvel['page_id']"
   ]
  },
  {
   "cell_type": "markdown",
   "metadata": {
    "button": false,
    "deletable": true,
    "new_sheet": false,
    "run_control": {
     "read_only": false
    }
   },
   "source": [
    "#### Let's add our new data to a dataframe and print the head"
   ]
  },
  {
   "cell_type": "code",
   "execution_count": 5,
   "metadata": {
    "button": false,
    "collapsed": false,
    "deletable": true,
    "new_sheet": false,
    "run_control": {
     "read_only": false
    }
   },
   "outputs": [
    {
     "name": "stdout",
     "output_type": "stream",
     "text": [
      "                             Week: 1  \\\n",
      "0  general tcb(taking care business)   \n",
      "1              using powers for good   \n",
      "2                 running into walls   \n",
      "3                           sleeping   \n",
      "4                 working both sides   \n",
      "\n",
      "                                            Week: 10  \\\n",
      "0                                 running into walls   \n",
      "1                  general tcb(taking care business)   \n",
      "2                            understanding the world   \n",
      "3                                           sleeping   \n",
      "4  having conflicting emotions about secret identity   \n",
      "\n",
      "                            Week: 11                 Week: 12  \\\n",
      "0  general tcb(taking care business)  understanding the world   \n",
      "1                 doing magic tricks        extensive pullups   \n",
      "2               being john malkovich        Netflix and chill   \n",
      "3                 working both sides                 Space!!!   \n",
      "4                  Netflix and chill       working both sides   \n",
      "\n",
      "                       Week: 13  \\\n",
      "0                      Space!!!   \n",
      "1                      Space!!!   \n",
      "2            running into walls   \n",
      "3                      sleeping   \n",
      "4  standing silently on one leg   \n",
      "\n",
      "                                            Week: 14  \\\n",
      "0                                  extensive pullups   \n",
      "1                               being john malkovich   \n",
      "2  having conflicting emotions about secret identity   \n",
      "3                  general tcb(taking care business)   \n",
      "4                               being john malkovich   \n",
      "\n",
      "                                            Week: 15  \\\n",
      "0                           being really really evil   \n",
      "1  having conflicting emotions about secret identity   \n",
      "2                                           sleeping   \n",
      "3                                 doing magic tricks   \n",
      "4                                munching on granola   \n",
      "\n",
      "                           Week: 16              Week: 17            Week: 18  \\\n",
      "0                           jogging  hopscotch tournament   eating jellybeans   \n",
      "1                doing magic tricks        birthday party  running into walls   \n",
      "2  stealing puppies from orphanages    running into walls  working both sides   \n",
      "3              being john malkovich    running into walls      birthday party   \n",
      "4                          Space!!!   munching on granola         masticating   \n",
      "\n",
      "    ...                             Week: 33  \\\n",
      "0   ...                             sleeping   \n",
      "1   ...         standing silently on one leg   \n",
      "2   ...    general tcb(taking care business)   \n",
      "3   ...                    eating jellybeans   \n",
      "4   ...             being really really evil   \n",
      "\n",
      "                           Week: 34  \\\n",
      "0                 extensive pullups   \n",
      "1  stealing puppies from orphanages   \n",
      "2                 eating jellybeans   \n",
      "3              hopscotch tournament   \n",
      "4      standing silently on one leg   \n",
      "\n",
      "                                            Week: 35  \\\n",
      "0                              using powers for good   \n",
      "1  having conflicting emotions about secret identity   \n",
      "2                                 working both sides   \n",
      "3                                           sleeping   \n",
      "4                   stealing puppies from orphanages   \n",
      "\n",
      "                             Week: 4                           Week: 5  \\\n",
      "0                           Space!!!                insulting children   \n",
      "1  general tcb(taking care business)  stealing puppies from orphanages   \n",
      "2               being john malkovich                 Netflix and chill   \n",
      "3                  extensive pullups                     evil fighting   \n",
      "4                  eating jellybeans                           jogging   \n",
      "\n",
      "                                Week: 6                   Week: 7  \\\n",
      "0                  being john malkovich        working both sides   \n",
      "1  creating portals to other dimensions  being really really evil   \n",
      "2      stealing puppies from orphanages        running into walls   \n",
      "3               understanding the world         eating jellybeans   \n",
      "4                    working both sides            birthday party   \n",
      "\n",
      "                            Week: 8                   Week: 9 page_id  \n",
      "0                insulting children       munching on granola    1678  \n",
      "1  stealing puppies from orphanages  being really really evil    7139  \n",
      "2                          Space!!!                  sleeping   64786  \n",
      "3                           jogging         Netflix and chill    1868  \n",
      "4                 eating jellybeans        doing magic tricks    2460  \n",
      "\n",
      "[5 rows x 36 columns]\n"
     ]
    }
   ],
   "source": [
    "weeks = pd.DataFrame(dicty)\n",
    "print weeks.head()"
   ]
  },
  {
   "cell_type": "markdown",
   "metadata": {
    "button": false,
    "deletable": true,
    "new_sheet": false,
    "run_control": {
     "read_only": false
    }
   },
   "source": [
    "#### Let's merge this table with our main table"
   ]
  },
  {
   "cell_type": "code",
   "execution_count": 6,
   "metadata": {
    "button": false,
    "collapsed": false,
    "deletable": true,
    "new_sheet": false,
    "run_control": {
     "read_only": false
    }
   },
   "outputs": [
    {
     "name": "stdout",
     "output_type": "stream",
     "text": [
      "   page_id                                 name  \\\n",
      "0     1678            Spider-Man (Peter Parker)   \n",
      "1     7139      Captain America (Steven Rogers)   \n",
      "2    64786  Wolverine (James \\\"Logan\\\" Howlett)   \n",
      "3     1868    Iron Man (Anthony \\\"Tony\\\" Stark)   \n",
      "4     2460                  Thor (Thor Odinson)   \n",
      "\n",
      "                                   urlslug                ID  \\\n",
      "0              \\/Spider-Man_(Peter_Parker)   Secret Identity   \n",
      "1        \\/Captain_America_(Steven_Rogers)   Public Identity   \n",
      "2  \\/Wolverine_(James_%22Logan%22_Howlett)   Public Identity   \n",
      "3    \\/Iron_Man_(Anthony_%22Tony%22_Stark)   Public Identity   \n",
      "4                    \\/Thor_(Thor_Odinson)  No Dual Identity   \n",
      "\n",
      "                ALIGN         EYE        HAIR              SEX  GSM  \\\n",
      "0     Good Characters  Hazel Eyes  Brown Hair  Male Characters  NaN   \n",
      "1     Good Characters   Blue Eyes  White Hair  Male Characters  NaN   \n",
      "2  Neutral Characters   Blue Eyes  Black Hair  Male Characters  NaN   \n",
      "3     Good Characters   Blue Eyes  Black Hair  Male Characters  NaN   \n",
      "4     Good Characters   Blue Eyes  Blond Hair  Male Characters  NaN   \n",
      "\n",
      "               ALIVE            ...             \\\n",
      "0  Living Characters            ...              \n",
      "1  Living Characters            ...              \n",
      "2  Living Characters            ...              \n",
      "3  Living Characters            ...              \n",
      "4  Living Characters            ...              \n",
      "\n",
      "                               Week: 32                           Week: 33  \\\n",
      "0                     eating jellybeans                           sleeping   \n",
      "1                  hopscotch tournament       standing silently on one leg   \n",
      "2  creating portals to other dimensions  general tcb(taking care business)   \n",
      "3                     Netflix and chill                  eating jellybeans   \n",
      "4                    insulting children           being really really evil   \n",
      "\n",
      "                           Week: 34  \\\n",
      "0                 extensive pullups   \n",
      "1  stealing puppies from orphanages   \n",
      "2                 eating jellybeans   \n",
      "3              hopscotch tournament   \n",
      "4      standing silently on one leg   \n",
      "\n",
      "                                            Week: 35  \\\n",
      "0                              using powers for good   \n",
      "1  having conflicting emotions about secret identity   \n",
      "2                                 working both sides   \n",
      "3                                           sleeping   \n",
      "4                   stealing puppies from orphanages   \n",
      "\n",
      "                             Week: 4                           Week: 5  \\\n",
      "0                           Space!!!                insulting children   \n",
      "1  general tcb(taking care business)  stealing puppies from orphanages   \n",
      "2               being john malkovich                 Netflix and chill   \n",
      "3                  extensive pullups                     evil fighting   \n",
      "4                  eating jellybeans                           jogging   \n",
      "\n",
      "                                Week: 6                   Week: 7  \\\n",
      "0                  being john malkovich        working both sides   \n",
      "1  creating portals to other dimensions  being really really evil   \n",
      "2      stealing puppies from orphanages        running into walls   \n",
      "3               understanding the world         eating jellybeans   \n",
      "4                    working both sides            birthday party   \n",
      "\n",
      "                            Week: 8                   Week: 9  \n",
      "0                insulting children       munching on granola  \n",
      "1  stealing puppies from orphanages  being really really evil  \n",
      "2                          Space!!!                  sleeping  \n",
      "3                           jogging         Netflix and chill  \n",
      "4                 eating jellybeans        doing magic tricks  \n",
      "\n",
      "[5 rows x 48 columns]\n"
     ]
    }
   ],
   "source": [
    "merged = pd.merge(marvel, weeks, on=\"page_id\", how=\"inner\")\n",
    "print merged.head()"
   ]
  },
  {
   "cell_type": "markdown",
   "metadata": {
    "button": false,
    "deletable": true,
    "new_sheet": false,
    "run_control": {
     "read_only": false
    }
   },
   "source": [
    "#### Let's take a look at our data to see how it came out. General Immortus tells you that \"Ormond Wychwood\" should be in our database, let's print out his data."
   ]
  },
  {
   "cell_type": "code",
   "execution_count": 7,
   "metadata": {
    "button": false,
    "collapsed": false,
    "deletable": true,
    "new_sheet": false,
    "run_control": {
     "read_only": false
    }
   },
   "outputs": [
    {
     "data": {
      "text/html": [
       "<div>\n",
       "<table border=\"1\" class=\"dataframe\">\n",
       "  <thead>\n",
       "    <tr style=\"text-align: right;\">\n",
       "      <th></th>\n",
       "      <th>page_id</th>\n",
       "      <th>name</th>\n",
       "      <th>urlslug</th>\n",
       "      <th>ID</th>\n",
       "      <th>ALIGN</th>\n",
       "      <th>EYE</th>\n",
       "      <th>HAIR</th>\n",
       "      <th>SEX</th>\n",
       "      <th>GSM</th>\n",
       "      <th>ALIVE</th>\n",
       "      <th>...</th>\n",
       "      <th>Week: 32</th>\n",
       "      <th>Week: 33</th>\n",
       "      <th>Week: 34</th>\n",
       "      <th>Week: 35</th>\n",
       "      <th>Week: 4</th>\n",
       "      <th>Week: 5</th>\n",
       "      <th>Week: 6</th>\n",
       "      <th>Week: 7</th>\n",
       "      <th>Week: 8</th>\n",
       "      <th>Week: 9</th>\n",
       "    </tr>\n",
       "  </thead>\n",
       "  <tbody>\n",
       "    <tr>\n",
       "      <th>1016</th>\n",
       "      <td>84720</td>\n",
       "      <td>Ormond Wychwood (Earth-616)</td>\n",
       "      <td>\\/Ormond_Wychwood_(Earth-616)</td>\n",
       "      <td>Secret Identity</td>\n",
       "      <td>Bad Characters</td>\n",
       "      <td>Blue Eyes</td>\n",
       "      <td>Blond Hair</td>\n",
       "      <td>Male Characters</td>\n",
       "      <td>NaN</td>\n",
       "      <td>Living Characters</td>\n",
       "      <td>...</td>\n",
       "      <td>doing magic tricks</td>\n",
       "      <td>general tcb(taking care business)</td>\n",
       "      <td>running into walls</td>\n",
       "      <td>ordering pizza</td>\n",
       "      <td>hopscotch tournament</td>\n",
       "      <td>stealing puppies from orphanages</td>\n",
       "      <td>running into walls</td>\n",
       "      <td>being really really evil</td>\n",
       "      <td>running into walls</td>\n",
       "      <td>goat wrangling</td>\n",
       "    </tr>\n",
       "  </tbody>\n",
       "</table>\n",
       "<p>1 rows × 48 columns</p>\n",
       "</div>"
      ],
      "text/plain": [
       "      page_id                         name                        urlslug  \\\n",
       "1016    84720  Ormond Wychwood (Earth-616)  \\/Ormond_Wychwood_(Earth-616)   \n",
       "\n",
       "                   ID           ALIGN        EYE        HAIR              SEX  \\\n",
       "1016  Secret Identity  Bad Characters  Blue Eyes  Blond Hair  Male Characters   \n",
       "\n",
       "      GSM              ALIVE       ...                  Week: 32  \\\n",
       "1016  NaN  Living Characters       ...        doing magic tricks   \n",
       "\n",
       "                               Week: 33            Week: 34        Week: 35  \\\n",
       "1016  general tcb(taking care business)  running into walls  ordering pizza   \n",
       "\n",
       "                   Week: 4                           Week: 5  \\\n",
       "1016  hopscotch tournament  stealing puppies from orphanages   \n",
       "\n",
       "                 Week: 6                   Week: 7             Week: 8  \\\n",
       "1016  running into walls  being really really evil  running into walls   \n",
       "\n",
       "             Week: 9  \n",
       "1016  goat wrangling  \n",
       "\n",
       "[1 rows x 48 columns]"
      ]
     },
     "execution_count": 7,
     "metadata": {},
     "output_type": "execute_result"
    }
   ],
   "source": [
    "merged[merged[\"name\"].str.contains(\"Ormond Wychwood\")]"
   ]
  },
  {
   "cell_type": "markdown",
   "metadata": {
    "button": false,
    "deletable": true,
    "new_sheet": false,
    "run_control": {
     "read_only": false
    }
   },
   "source": [
    "#### Everything looks good! Next, let's melt our table to find the most popular activity for our heroes by week"
   ]
  },
  {
   "cell_type": "code",
   "execution_count": 8,
   "metadata": {
    "button": false,
    "collapsed": false,
    "deletable": true,
    "new_sheet": false,
    "run_control": {
     "read_only": false
    }
   },
   "outputs": [
    {
     "name": "stdout",
     "output_type": "stream",
     "text": [
      "['page_id' 'name' 'urlslug' 'ID' 'ALIGN' 'EYE' 'HAIR' 'SEX' 'GSM' 'ALIVE'\n",
      " 'APPEARANCES' 'FIRST APPEARANCE' 'Year']\n",
      "['Week: 1' 'Week: 10' 'Week: 11' 'Week: 12' 'Week: 13' 'Week: 14'\n",
      " 'Week: 15' 'Week: 16' 'Week: 17' 'Week: 18' 'Week: 19' 'Week: 2'\n",
      " 'Week: 20' 'Week: 21' 'Week: 22' 'Week: 23' 'Week: 24' 'Week: 25'\n",
      " 'Week: 26' 'Week: 27' 'Week: 28' 'Week: 29' 'Week: 3' 'Week: 30'\n",
      " 'Week: 31' 'Week: 32' 'Week: 33' 'Week: 34' 'Week: 35' 'Week: 4' 'Week: 5'\n",
      " 'Week: 6' 'Week: 7' 'Week: 8' 'Week: 9']\n",
      "   page_id                                 name  \\\n",
      "0     1678            Spider-Man (Peter Parker)   \n",
      "1     7139      Captain America (Steven Rogers)   \n",
      "2    64786  Wolverine (James \\\"Logan\\\" Howlett)   \n",
      "3     1868    Iron Man (Anthony \\\"Tony\\\" Stark)   \n",
      "4     2460                  Thor (Thor Odinson)   \n",
      "\n",
      "                                   urlslug                ID  \\\n",
      "0              \\/Spider-Man_(Peter_Parker)   Secret Identity   \n",
      "1        \\/Captain_America_(Steven_Rogers)   Public Identity   \n",
      "2  \\/Wolverine_(James_%22Logan%22_Howlett)   Public Identity   \n",
      "3    \\/Iron_Man_(Anthony_%22Tony%22_Stark)   Public Identity   \n",
      "4                    \\/Thor_(Thor_Odinson)  No Dual Identity   \n",
      "\n",
      "                ALIGN         EYE        HAIR              SEX  GSM  \\\n",
      "0     Good Characters  Hazel Eyes  Brown Hair  Male Characters  NaN   \n",
      "1     Good Characters   Blue Eyes  White Hair  Male Characters  NaN   \n",
      "2  Neutral Characters   Blue Eyes  Black Hair  Male Characters  NaN   \n",
      "3     Good Characters   Blue Eyes  Black Hair  Male Characters  NaN   \n",
      "4     Good Characters   Blue Eyes  Blond Hair  Male Characters  NaN   \n",
      "\n",
      "               ALIVE  APPEARANCES FIRST APPEARANCE  Year     week  \\\n",
      "0  Living Characters         4043           Aug-62  1962  Week: 1   \n",
      "1  Living Characters         3360           Mar-41  1941  Week: 1   \n",
      "2  Living Characters         3061           Oct-74  1974  Week: 1   \n",
      "3  Living Characters         2961           Mar-63  1963  Week: 1   \n",
      "4  Living Characters         2258           Nov-50  1950  Week: 1   \n",
      "\n",
      "                            activity  \n",
      "0  general tcb(taking care business)  \n",
      "1              using powers for good  \n",
      "2                 running into walls  \n",
      "3                           sleeping  \n",
      "4                 working both sides  \n"
     ]
    }
   ],
   "source": [
    "#Info\n",
    "print merged.columns.values[:13]\n",
    "\n",
    "#Activity by week\n",
    "print merged.columns.values[13:]\n",
    "\n",
    "melted_table = pd.melt(merged,id_vars=merged.columns.values[:13],var_name=\"week\",value_name=\"activity\")\n",
    "print melted_table.head()"
   ]
  },
  {
   "cell_type": "markdown",
   "metadata": {
    "button": false,
    "deletable": true,
    "new_sheet": false,
    "run_control": {
     "read_only": false
    }
   },
   "source": [
    "#### We are concerned about the activities of our valiant evil heroes vs. the unambitious good heroes. Let's print out a pivot table showing the differences"
   ]
  },
  {
   "cell_type": "code",
   "execution_count": 9,
   "metadata": {
    "button": false,
    "collapsed": false,
    "deletable": true,
    "new_sheet": false,
    "run_control": {
     "read_only": false
    }
   },
   "outputs": [
    {
     "data": {
      "text/html": [
       "<div>\n",
       "<table border=\"1\" class=\"dataframe\">\n",
       "  <thead>\n",
       "    <tr style=\"text-align: right;\">\n",
       "      <th>activity</th>\n",
       "      <th>Netflix and chill</th>\n",
       "      <th>Space!!!</th>\n",
       "      <th>being john malkovich</th>\n",
       "      <th>being really really evil</th>\n",
       "      <th>birthday party</th>\n",
       "      <th>creating portals to other dimensions</th>\n",
       "      <th>doing magic tricks</th>\n",
       "      <th>eating jellybeans</th>\n",
       "      <th>evil fighting</th>\n",
       "      <th>extensive pullups</th>\n",
       "      <th>...</th>\n",
       "      <th>masticating</th>\n",
       "      <th>munching on granola</th>\n",
       "      <th>ordering pizza</th>\n",
       "      <th>running into walls</th>\n",
       "      <th>sleeping</th>\n",
       "      <th>standing silently on one leg</th>\n",
       "      <th>stealing puppies from orphanages</th>\n",
       "      <th>understanding the world</th>\n",
       "      <th>using powers for good</th>\n",
       "      <th>working both sides</th>\n",
       "    </tr>\n",
       "    <tr>\n",
       "      <th>ALIGN</th>\n",
       "      <th></th>\n",
       "      <th></th>\n",
       "      <th></th>\n",
       "      <th></th>\n",
       "      <th></th>\n",
       "      <th></th>\n",
       "      <th></th>\n",
       "      <th></th>\n",
       "      <th></th>\n",
       "      <th></th>\n",
       "      <th></th>\n",
       "      <th></th>\n",
       "      <th></th>\n",
       "      <th></th>\n",
       "      <th></th>\n",
       "      <th></th>\n",
       "      <th></th>\n",
       "      <th></th>\n",
       "      <th></th>\n",
       "      <th></th>\n",
       "      <th></th>\n",
       "    </tr>\n",
       "  </thead>\n",
       "  <tbody>\n",
       "    <tr>\n",
       "      <th>Bad Characters</th>\n",
       "      <td>8962</td>\n",
       "      <td>9090</td>\n",
       "      <td>8995</td>\n",
       "      <td>9053</td>\n",
       "      <td>9075</td>\n",
       "      <td>9282</td>\n",
       "      <td>9125</td>\n",
       "      <td>9005</td>\n",
       "      <td>9023</td>\n",
       "      <td>9017</td>\n",
       "      <td>...</td>\n",
       "      <td>8960</td>\n",
       "      <td>8912</td>\n",
       "      <td>9026</td>\n",
       "      <td>9035</td>\n",
       "      <td>8970</td>\n",
       "      <td>9193</td>\n",
       "      <td>9140</td>\n",
       "      <td>8858</td>\n",
       "      <td>9044</td>\n",
       "      <td>8955</td>\n",
       "    </tr>\n",
       "    <tr>\n",
       "      <th>Good Characters</th>\n",
       "      <td>6336</td>\n",
       "      <td>6220</td>\n",
       "      <td>6201</td>\n",
       "      <td>6197</td>\n",
       "      <td>6373</td>\n",
       "      <td>6013</td>\n",
       "      <td>6285</td>\n",
       "      <td>6248</td>\n",
       "      <td>6388</td>\n",
       "      <td>6212</td>\n",
       "      <td>...</td>\n",
       "      <td>6173</td>\n",
       "      <td>6299</td>\n",
       "      <td>6098</td>\n",
       "      <td>6164</td>\n",
       "      <td>6321</td>\n",
       "      <td>6128</td>\n",
       "      <td>6343</td>\n",
       "      <td>6271</td>\n",
       "      <td>6244</td>\n",
       "      <td>6215</td>\n",
       "    </tr>\n",
       "    <tr>\n",
       "      <th>Neutral Characters</th>\n",
       "      <td>3023</td>\n",
       "      <td>3001</td>\n",
       "      <td>2937</td>\n",
       "      <td>3004</td>\n",
       "      <td>3076</td>\n",
       "      <td>2947</td>\n",
       "      <td>3004</td>\n",
       "      <td>2969</td>\n",
       "      <td>2996</td>\n",
       "      <td>2902</td>\n",
       "      <td>...</td>\n",
       "      <td>2949</td>\n",
       "      <td>2902</td>\n",
       "      <td>2993</td>\n",
       "      <td>2975</td>\n",
       "      <td>3001</td>\n",
       "      <td>3000</td>\n",
       "      <td>2928</td>\n",
       "      <td>2950</td>\n",
       "      <td>3021</td>\n",
       "      <td>2967</td>\n",
       "    </tr>\n",
       "  </tbody>\n",
       "</table>\n",
       "<p>3 rows × 26 columns</p>\n",
       "</div>"
      ],
      "text/plain": [
       "activity            Netflix and chill  Space!!!  being john malkovich  \\\n",
       "ALIGN                                                                   \n",
       "Bad Characters                   8962      9090                  8995   \n",
       "Good Characters                  6336      6220                  6201   \n",
       "Neutral Characters               3023      3001                  2937   \n",
       "\n",
       "activity            being really really evil  birthday party  \\\n",
       "ALIGN                                                          \n",
       "Bad Characters                          9053            9075   \n",
       "Good Characters                         6197            6373   \n",
       "Neutral Characters                      3004            3076   \n",
       "\n",
       "activity            creating portals to other dimensions  doing magic tricks  \\\n",
       "ALIGN                                                                          \n",
       "Bad Characters                                      9282                9125   \n",
       "Good Characters                                     6013                6285   \n",
       "Neutral Characters                                  2947                3004   \n",
       "\n",
       "activity            eating jellybeans  evil fighting  extensive pullups  \\\n",
       "ALIGN                                                                     \n",
       "Bad Characters                   9005           9023               9017   \n",
       "Good Characters                  6248           6388               6212   \n",
       "Neutral Characters               2969           2996               2902   \n",
       "\n",
       "activity                   ...          masticating  munching on granola  \\\n",
       "ALIGN                      ...                                             \n",
       "Bad Characters             ...                 8960                 8912   \n",
       "Good Characters            ...                 6173                 6299   \n",
       "Neutral Characters         ...                 2949                 2902   \n",
       "\n",
       "activity            ordering pizza  running into walls  sleeping  \\\n",
       "ALIGN                                                              \n",
       "Bad Characters                9026                9035      8970   \n",
       "Good Characters               6098                6164      6321   \n",
       "Neutral Characters            2993                2975      3001   \n",
       "\n",
       "activity            standing silently on one leg  \\\n",
       "ALIGN                                              \n",
       "Bad Characters                              9193   \n",
       "Good Characters                             6128   \n",
       "Neutral Characters                          3000   \n",
       "\n",
       "activity            stealing puppies from orphanages  understanding the world  \\\n",
       "ALIGN                                                                           \n",
       "Bad Characters                                  9140                     8858   \n",
       "Good Characters                                 6343                     6271   \n",
       "Neutral Characters                              2928                     2950   \n",
       "\n",
       "activity            using powers for good  working both sides  \n",
       "ALIGN                                                          \n",
       "Bad Characters                       9044                8955  \n",
       "Good Characters                      6244                6215  \n",
       "Neutral Characters                   3021                2967  \n",
       "\n",
       "[3 rows x 26 columns]"
      ]
     },
     "execution_count": 9,
     "metadata": {},
     "output_type": "execute_result"
    }
   ],
   "source": [
    "pivot_melted = pd.pivot_table(melted_table[[\"ALIGN\",\"activity\"]],index=[\"ALIGN\"],columns=[\"activity\"], aggfunc=len, fill_value=0)\n",
    "pivot_melted.head()"
   ]
  },
  {
   "cell_type": "markdown",
   "metadata": {
    "button": false,
    "deletable": true,
    "new_sheet": false,
    "run_control": {
     "read_only": false
    }
   },
   "source": [
    "#### Are our freedom fighters better at being evil on average? Let's make a scatterplot of the number of times each character had an evil action against how they are aligned (evil, neutral, good)."
   ]
  },
  {
   "cell_type": "code",
   "execution_count": 16,
   "metadata": {
    "button": false,
    "collapsed": false,
    "deletable": true,
    "new_sheet": false,
    "run_control": {
     "read_only": false
    },
    "scrolled": true
   },
   "outputs": [
    {
     "name": "stdout",
     "output_type": "stream",
     "text": [
      "Bad Characters        235200\n",
      "Good Characters       162260\n",
      "Neutral Characters     77280\n",
      "dtype: int64\n",
      "[2460, 'Good Characters']\n",
      "Bad Characters        6717\n",
      "Good Characters       4633\n",
      "Neutral Characters    2208\n",
      "dtype: int64"
     ]
    },
    {
     "name": "stderr",
     "output_type": "stream",
     "text": [
      "/Applications/Pineapple.app/Contents/Resources/python2.7/lib/python2.7/site-packages/ipykernel/__main__.py:8: SettingWithCopyWarning: \n",
      "A value is trying to be set on a copy of a slice from a DataFrame\n",
      "\n",
      "See the the caveats in the documentation: http://pandas.pydata.org/pandas-docs/stable/indexing.html#indexing-view-versus-copy\n",
      "/Applications/Pineapple.app/Contents/Resources/python2.7/lib/python2.7/site-packages/pandas/tools/plotting.py:2633: FutureWarning: \n",
      "The default value for 'return_type' will change to 'axes' in a future release.\n",
      " To use the future behavior now, set return_type='axes'.\n",
      " To keep the previous behavior and silence this warning, set return_type='dict'.\n",
      "  warnings.warn(msg, FutureWarning)\n"
     ]
    },
    {
     "name": "stdout",
     "output_type": "stream",
     "text": [
      "\n"
     ]
    }
   ],
   "source": [
    "evil_activities = [\"working both sides\",\"creating portals to other dimensions\",\n",
    "           \"being really really evil\", \"insulting children\", \"stealing puppies from orphanages\"]\n",
    "\n",
    "df_actions = melted_table[['page_id','ALIGN','activity']]\n",
    "only_evil = df_actions[df_actions['activity'].isin(evil_activities)]\n",
    "hero_counts = only_evil['page_id'].value_counts()\n",
    "only_evil.drop('activity', axis=1, inplace=True)\n",
    "only_evil.drop_duplicates(inplace=True)\n",
    "\n",
    "align = []\n",
    "occ = []\n",
    "\n",
    "for row in only_evil.iterrows():\n",
    "    hero_id = row[1][0]\n",
    "    hero_align = row[1][1]\n",
    "    count = hero_counts[hero_id]\n",
    "    align += [hero_align]\n",
    "    occ += [count]\n",
    "\n",
    "new_df = pd.DataFrame({\"Align\":align, \"Occurrences\":occ })\n",
    "new_df.groupby('Align').boxplot()\n",
    "plt.show()"
   ]
  },
  {
   "cell_type": "code",
   "execution_count": 184,
   "metadata": {
    "button": false,
    "collapsed": false,
    "deletable": true,
    "new_sheet": false,
    "run_control": {
     "read_only": false
    }
   },
   "outputs": [
    {
     "name": "stdout",
     "output_type": "stream",
     "text": [
      "Empty DataFrame\n",
      "Columns: []\n",
      "Index: []\n",
      "Empty DataFrame\n",
      "Columns: []\n",
      "Index: []\n",
      "Empty DataFrame\n",
      "Columns: []\n",
      "Index: []\n"
     ]
    }
   ],
   "source": [
    "print alignment_good.head()\n",
    "print alignment_neutral.head()\n",
    "print alignment_bad.head()"
   ]
  },
  {
   "cell_type": "code",
   "execution_count": null,
   "metadata": {
    "button": false,
    "collapsed": true,
    "deletable": true,
    "new_sheet": false,
    "run_control": {
     "read_only": false
    }
   },
   "outputs": [],
   "source": []
  }
 ],
 "metadata": {
  "anaconda-cloud": {},
  "kernelspec": {
   "display_name": "Python 2",
   "language": "python",
   "name": "python2"
  },
  "language_info": {
   "codemirror_mode": {
    "name": "ipython",
    "version": 2
   },
   "file_extension": ".py",
   "mimetype": "text/x-python",
   "name": "python",
   "nbconvert_exporter": "python",
   "pygments_lexer": "ipython2",
   "version": "2.7"
  }
 },
 "nbformat": 4,
 "nbformat_minor": 0
}
